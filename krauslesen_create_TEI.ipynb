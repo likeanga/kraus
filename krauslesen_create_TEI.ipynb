{
 "cells": [
  {
   "cell_type": "markdown",
   "metadata": {},
   "source": [
    "# Krauslesen: Erzeugen der TEIs\n",
    "\n",
    "Wir gehen von dem mit dem Scraping-Notebook erzeugten JSON-Dump aus. Wir erzeugen daraus einzelne TEI Dateien und füllen den `teiHeader` soweit es geht aus. Auf die Verlinkung von Werken und Personen, Institutionen müssen wir einstweilig noch verzichten."
   ]
  },
  {
   "cell_type": "code",
   "execution_count": 1,
   "metadata": {
    "collapsed": true
   },
   "outputs": [],
   "source": [
    "import json\n",
    "import xml.etree.ElementTree as ET\n",
    "from xml.etree.ElementTree import Element, SubElement\n",
    "from datetime import datetime"
   ]
  },
  {
   "cell_type": "code",
   "execution_count": 2,
   "metadata": {
    "collapsed": true
   },
   "outputs": [],
   "source": [
    "#Register TEI Namespace\n",
    "ET.register_namespace('',\"http://www.tei-c.org/ns/1.0\")"
   ]
  },
  {
   "cell_type": "code",
   "execution_count": 3,
   "metadata": {
    "collapsed": true
   },
   "outputs": [],
   "source": [
    "source_filename = \"krauslesen_enriched_v2.json\""
   ]
  },
  {
   "cell_type": "code",
   "execution_count": 4,
   "metadata": {
    "collapsed": true
   },
   "outputs": [],
   "source": [
    "# Ausgangsdaten laden\n",
    "f = open(\"krauslesen_enriched_v2.json\", \"r\")\n",
    "source_data = f.read()\n",
    "f.close()"
   ]
  },
  {
   "cell_type": "code",
   "execution_count": 5,
   "metadata": {
    "collapsed": true
   },
   "outputs": [],
   "source": [
    "# als json parsen\n",
    "data = json.loads(source_data)"
   ]
  },
  {
   "cell_type": "code",
   "execution_count": 6,
   "metadata": {},
   "outputs": [
    {
     "name": "stdout",
     "output_type": "stream",
     "text": [
      "35\n"
     ]
    }
   ],
   "source": [
    "# Ausgabe der Keys\n",
    "#data.keys()\n",
    "#Anzahl der Files: das Dictionary hat keys, die Anzahl sollte den Dokumenten entsprechen\n",
    "print(len(data.keys()))"
   ]
  },
  {
   "cell_type": "code",
   "execution_count": 7,
   "metadata": {},
   "outputs": [
    {
     "data": {
      "text/plain": [
       "{'data_krausonline': {'date': '11.01.1920\\n',\n",
       "  'institutions': [{'link': 'https://www.kraus.wienbibliothek.at/content/wiener-konzerthaus',\n",
       "    'name': 'Wiener Konzerthaus'},\n",
       "   {'link': 'https://www.kraus.wienbibliothek.at/content/kinderausspeisung',\n",
       "    'name': 'Kinderausspeisung'}],\n",
       "  'krausonline_id': '7658',\n",
       "  'krausonline_url': 'https://www.kraus.wienbibliothek.at/content/154-vorlesung-am-11011920',\n",
       "  'objects': [],\n",
       "  'persons': None,\n",
       "  'place': 'Wien',\n",
       "  'shortlink': 'https://www.kraus.wienbibliothek.at/node/7658',\n",
       "  'summary_paragraphs': ['[Karl Kraus las im Mittleren Konzerthaussaal am] 11. Januar, ½3 Uhr:',\n",
       "   'I. Lammasch und die Christen.',\n",
       "   'Gerhart Hauptmann, »Die Weber« I. und II. Akt.',\n",
       "   'II. »Die Weber«, IV. Akt.',\n",
       "   'Gebet an die Sonne von Gibeon.',\n",
       "   'Die Hälfte des Ertrags für die Kinderausspeisung.',\n",
       "   '[Die Fackel 521-530, 01.1920, 98] - zitiert nach  Austrian Academy Corpus '],\n",
       "  'title': '154. Vorlesung am 11.01.1920',\n",
       "  'vorlesungsprogramm-transkript': ['[...]',\n",
       "   'Lammasch und die Christen (Manuskript)',\n",
       "   'Aus: Die Weber.',\n",
       "   'Schauspiel aus den vierziger Jahren von Gerhart Hauptmann',\n",
       "   '[...]',\n",
       "   '\\xa0',\n",
       "   'Die erste vollständige Vorlesung der »Weber« hat am 23. August 1893 nachmittags in Ischl stattgefunden; ihr folgte eine am 3. Oktober in München (im großen Saal des Museums); hierauf eine vom Allgemeinen Österreichischen Frauenverein, Dezember 1893, veranstaltete in Wien (im Saale\\n\\tdes Gemeindehauses IX), des II. Aktes; eine ebensolche am 11. Dezember 1894, an einem Abend der Wiener Musik- und Theater-Gesellschaft, an dem auch M. G. Conrad und Josef Lewinskymitgewirkt haben.',\n",
       "   'Von Pressestimmen zu diesen Vorlesungen sind nur zwei aufbewahrt. Münchener Allgemeine Zeitung, 4. Oktober 1893, Abendblatt:',\n",
       "   '\\xa0',\n",
       "   'μ München, 4. Oct. Der Akademisch-dramatische Verein veranstaltet literarische Vortragsabende, an welchen moderne Dramen, die hier noch nicht aufgeführt wurden, zur Vorlesung gelangen. Gestern trug Hr. Karl Kraus, Schriftsteller aus Wien, Gerhart Hauptmanns „Weber“ vor — dieses bedeutendste Drama des jungen hochbegabten Autors, das von den beiden Gewalten, die nach Schiller die Welt zusammenhalten, dem Hunger und der Liebe, die erstere zum einzigen Motiv gewählt hat, und zum Helden gab er ihm einen ganzen Stand: die armen schlesischen Weber der vierziger Jahre. Noch gegenwärtig wird in Berlin um die Aufführung des Stückes gekämpft, denn wenn es auch alle Welt längst durch die Lectüre kennt, es ist nichts weniger als ein Lesedrama und schreit förmlich nach der Verkörperung auf der Bühne. Daß es aber auch vorgetragen von großer Wirkung ist, bewies der gestrige Abend. Hr. Kraus ist eine blutjunge bartlose Erscheinung, der man, wenn sie in einem Piccolo-Jaquet das Podium betritt, kaum viel zuzutrauen geneigt ist. Anfangs war er den Meisten auch schwer verständlich, nicht weil er das Original im schlesischen Dialekt las, sondern der ziemlich undeutlich hervorgesprudelten hochdeutschen Stellen wegen. Er wuchs aber mit seiner Aufgabe von Act zu Act, und man fühlte, er ließ sich durch sie begeistert mit fortreißen und beherrschte sie doch wieder zugleich mit ungewöhnlicher Gewandtheit. Hr. Kraus besitzt eine ganz bedeutende schauspielerische Begabung. Gesicht und Bewegungen werden im Laufe der Rede immer ausdrucksvoller, und diese selbst weiß die zahlreichen Personen des Stückes außerordentlich prägnant zu charakterisiren. Der Vortrag, der im Museum stattfand, war leider nur von einem sehr kleinen Publicum besucht, dieses zollte jedoch, von der Kraft der Dichtung hingerissen, dem jungen Recitator nach jeder Pause freundliche Anerkennung, wenn auch der von 8 bis 11 Uhr dauernde Vortrag des einen Hungerthemas zuletzt die erschöpften Zuhörer in einen Zustand versetzte, der dem der schlesischen Weber nicht so unähnlich gewesen sein mag.',\n",
       "   '\\xa0',\n",
       "   'Neue Freie Presse, 15. Dezember 1893: Das jüngst erschienene Heft einer deutschen Revue enthält einen Münchener Kunstbrief des Dr. M. G. Conrad, der die »Weber«-Rezitation des jungen Wiener Literaten Karl Kraus überaus anerkennend hervorhebt, es heißt dort unter anderm: »Eine rühmliche That haben wir wiederum dem unermüdlich strebsamen »Akademisch-dramatischen Verein« zu verdanken: die Vorlesung des \\xa0Hauptmannschen Meisterwerkes »Die Weber«. Der Vorleser [unser wertgeschätzter Mitarbeiter] Karl Kraus aus Wien, bewältigte die schwierige Aufgabe mit ungemeinem Talente. Einzelnes brachte er mit der Kunst seines Vortrages und erstaunlicher Beherrschung seiner charakterisierungskräftigen Stimmittel unübertrefflich zur Geltung, so namentlich den ganzen zweiten und vierten Akt. [Es war ein kleines, ausgewähltes Publikum im Museums-Saale, das dem Vortrage lauschte. Karl Kraus erntete den wohlverdienten Beifall. Sein Name wird forthin neben den besten Rezitatoren als der eines der kühnsten Bahnbrecher auf dem Gebiete dramatischen Vortrages mit Auszeichnung genannt werden.]« Vergangenen Mittwoch las Herr Kraus im Wiener Allgemeinen österreichischen Frauenverein, einer Einladung desselben folgend, den zweiten Akt der oben erwähnten Dichtung Hauptmanns nebst einer erläuternden Einleitung und erntete auch hier wohlverdienten Beifall.',\n",
       "   '\\xa0',\n",
       "   'Das Zitat war der Conrad’schen Monatsschrift »Die Gesellschaft« (Leipzig, Novemberheft 1893, »Aus dem Münchener Kunstleben«) entnommen. Nicht vollständig. Die eingeklammerten Sätze hatte die Neue Freie Presse weggelassen. Namentlich die im Schlußsatz enthaltene Prophezeiung wollte die Neue Freie Presse nicht auf sich nehmen. Sie hielt sie für unerfüllbar und sie hat recht behalten. Der Name des Vortragenden ist forthin neben den besten Rezitatoren als der eines der kühnsten Bahnbrecher auf dem Gebiete dramatischen Vortrages nicht genannt worden.',\n",
       "   'Zwischen dem II. und dem IV. Akt zehn Minuten Pause.',\n",
       "   'Gebet an die Sonne von Gibeon',\n",
       "   'Änderungen vorbehalten. Die auf dem Plakat angekündigte Vorlesung des Epilogs »Die letzte Nacht« muß unterbleiben, wenn, wie vorauszusehen, die Zeit nach der Pause nicht ausreicht. Im andern Fall würde er anstatt des IV. Aktes der »Weber« und des » Gebets an die Sonne von Gibeon« gelesen werden.',\n",
       "   'Die Hälfte des Ertrags fällt der Kinderfürsorge zu.',\n",
       "   '[...]',\n",
       "   '\\xa0']},\n",
       " 'data_wienbib': {'anmerkung': \"Bl. 1r: Hinweis auf die Verwendung des Ertrags der Vorlesung (Kinderfürsorge) und auf Kraus' nächste Vorlesung\",\n",
       "  'beteiligte': None,\n",
       "  'date': '1920.01.11',\n",
       "  'extent': '1 Bl., Druck',\n",
       "  'opac_url': 'https://permalink.obvsg.at/wbr/AC15960874',\n",
       "  'pdfdownload_url': 'https://www.digital.wienbibliothek.at/download/pdf/1132421?name=Vorlesung%20Karl%20Kraus',\n",
       "  'place': 'Wien',\n",
       "  'titleHeader': 'Vorlesung Karl Kraus. Wien, 1920.01.11',\n",
       "  'wienbib_id': '1132421',\n",
       "  'wienbib_url': 'https://www.digital.wienbibliothek.at/wbrobv02/content/titleinfo/1132421',\n",
       "  'zusammenfassung': 'Programm im Mittleren Konzerthaussaal: Lammasch und die Christen (Manuskript) | Aus: Die Weber. Schauspiel aus den vierziger Jahren von Gerhart Hauptmann | Gebet an die Sonne von Gibeon'},\n",
       " 'date': '1920-01-11',\n",
       " 'fackel': {'issue': '521-530',\n",
       "  'krausonline_bibl': 'Die Fackel 521-530, 01.1920, 98',\n",
       "  'onSinglePage': True,\n",
       "  'permalink_start': 'https://fackel.oeaw.ac.at/f/521-530,098',\n",
       "  'permalinks': ['https://fackel.oeaw.ac.at/f/521-530,098'],\n",
       "  'pp': '98',\n",
       "  'relatedKey': 'kkvo_1920-01-11',\n",
       "  'relatedKrausonline_date': '11.01.1920\\n',\n",
       "  'relatedKrausonline_place': 'Wien',\n",
       "  'relatedKrausonline_summaryFirstline': '[Karl Kraus las im Mittleren Konzerthaussaal am] 11. Januar, ½3 Uhr:',\n",
       "  'relatedKrausonline_titel': '154. Vorlesung am 11.01.1920',\n",
       "  'relatedKrausonline_url': 'https://www.kraus.wienbibliothek.at/content/154-vorlesung-am-11011920',\n",
       "  'startpage': '98'},\n",
       " 'id': 'kkvo_1920-01-11',\n",
       " 'url_krausonline': 'https://www.kraus.wienbibliothek.at/content/154-vorlesung-am-11011920',\n",
       " 'url_wienbib': 'https://www.digital.wienbibliothek.at/wbrobv02/content/titleinfo/1132421'}"
      ]
     },
     "execution_count": 7,
     "metadata": {},
     "output_type": "execute_result"
    }
   ],
   "source": [
    "#Example : kkvo_1920-01-11\n",
    "data[\"kkvo_1920-01-11\"]"
   ]
  },
  {
   "cell_type": "markdown",
   "metadata": {},
   "source": [
    "Wir haben ein Template mit dem teiHeader erstellt, das mit dem Package `etree` eingelesen und befüllt wird."
   ]
  },
  {
   "cell_type": "code",
   "execution_count": 8,
   "metadata": {
    "collapsed": true
   },
   "outputs": [],
   "source": [
    "#helper-function to generate a hash\n",
    "import hashlib\n",
    "def shorthash(textstring:str):\n",
    "    # hash of string to be used in identifiers\n",
    "    hash = hashlib.sha1(textstring.encode(\"UTF-8\")).hexdigest()\n",
    "    shorthash = hash[:8]\n",
    "    return shorthash"
   ]
  },
  {
   "cell_type": "code",
   "execution_count": 9,
   "metadata": {
    "collapsed": true
   },
   "outputs": [],
   "source": [
    "#Funktion zur Generierung von einem TEI-File zu einem Dokument\n",
    "def generate_TEI(doc_id):\n",
    "    #namespace \n",
    "    ns = {\"tei\": \"http://www.tei-c.org/ns/1.0\"}\n",
    "    \n",
    "    # set filename\n",
    "    filename = doc_id + \".xml\"\n",
    "    outfile = \"tei/\" + filename\n",
    "    \n",
    "    #Daten\n",
    "    doc_data = data[doc_id]\n",
    "    \n",
    "    #Title without date: bare_title:\n",
    "    if \" am \" in doc_data[\"data_krausonline\"][\"title\"]:\n",
    "        bare_title = doc_data[\"data_krausonline\"][\"title\"].split(\" am \")[0]\n",
    "    else:\n",
    "        #fallback\n",
    "        bare_title = doc_data[\"data_krausonline\"][\"title\"]\n",
    "        \n",
    "    #Date-Object:\n",
    "    doc_date_obj = datetime.strptime(doc_data[\"data_krausonline\"][\"date\"].strip(), \"%d.%m.%Y\")\n",
    "    iso_date_string = doc_date_obj.strftime(\"%Y-%m-%d\")\n",
    "    \n",
    "    \n",
    "    #template\n",
    "    tree = ET.parse(\"tei_template.xml\")\n",
    "    \n",
    "    tree.getroot().attrib[\"xml:id\"] = doc_id\n",
    "    #tree.getroot().attrib[\"n\"] = doc_id\n",
    "    \n",
    "    \n",
    "    #Title\n",
    "    new_title = \"Karl Kraus: \" + doc_data[\"data_krausonline\"][\"title\"]\n",
    "    tree.find(\"tei:teiHeader/tei:fileDesc/tei:titleStmt/tei:title\",ns).text = new_title\n",
    "    \n",
    "    \n",
    "    \n",
    "    # -------- \n",
    "    # Krausonline source \n",
    "    # --------\n",
    "    \n",
    "    ko_source_xmlid = \"krausonline_\" + doc_data[\"data_krausonline\"][\"krausonline_id\"]\n",
    "    tree.find(\"tei:teiHeader/tei:fileDesc/tei:sourceDesc/tei:bibl[@source='#krausonline']\",ns).attrib[\"xml:id\"] = ko_source_xmlid\n",
    "    \n",
    "    \n",
    "    #Title in bibl[krausonline]\n",
    "    tree.find(\"tei:teiHeader/tei:fileDesc/tei:sourceDesc/tei:bibl[@source='#krausonline']/tei:title\",ns).text = doc_data[\"data_krausonline\"][\"title\"]\n",
    "    \n",
    "    #Author in bibl[krausonline]\n",
    "    tree.find(\"tei:teiHeader/tei:fileDesc/tei:sourceDesc/tei:bibl[@source='#krausonline']/tei:author\",ns).text = \"Karl Kraus\"\n",
    "    tree.find(\"tei:teiHeader/tei:fileDesc/tei:sourceDesc/tei:bibl[@source='#krausonline']/tei:author\",ns).attrib[\"ref\"] = \"#P.Kraus\"\n",
    "    \n",
    "    #IDs in bibl[krausonline]:\n",
    "    tree.find(\"tei:teiHeader/tei:fileDesc/tei:sourceDesc/tei:bibl[@source='#krausonline']/tei:ref[@type='fulllink']\",ns).text = doc_data[\"data_krausonline\"][\"krausonline_url\"]\n",
    "    tree.find(\"tei:teiHeader/tei:fileDesc/tei:sourceDesc/tei:bibl[@source='#krausonline']/tei:ref[@type='fulllink']\",ns).attrib[\"target\"] = doc_data[\"data_krausonline\"][\"krausonline_url\"]\n",
    "    \n",
    "    tree.find(\"tei:teiHeader/tei:fileDesc/tei:sourceDesc/tei:bibl[@source='#krausonline']/tei:ref[@type='shortlink']\",ns).text = doc_data[\"data_krausonline\"][\"shortlink\"]\n",
    "    tree.find(\"tei:teiHeader/tei:fileDesc/tei:sourceDesc/tei:bibl[@source='#krausonline']/tei:ref[@type='shortlink']\",ns).attrib[\"target\"] = doc_data[\"data_krausonline\"][\"shortlink\"]\n",
    "    \n",
    "    tree.find(\"tei:teiHeader/tei:fileDesc/tei:sourceDesc/tei:bibl[@source='#krausonline']/tei:idno[@type='ID']\",ns).text = doc_data[\"data_krausonline\"][\"krausonline_id\"]\n",
    "\n",
    "    \n",
    "    #Date in bibl is difficult, because we don't know the publication date..\n",
    "    # What is the publication date of the Vorlesungsprogramm? Could put only a year there?\n",
    "    \n",
    "    \n",
    "    # -------- \n",
    "    # Wienbibliothek source \n",
    "    # --------\n",
    "    wienbib_source_xmlid = \"wienbib_\" + doc_data[\"data_wienbib\"][\"wienbib_id\"]\n",
    "    tree.find(\"tei:teiHeader/tei:fileDesc/tei:sourceDesc/tei:bibl[@source='#wienbib']\",ns).attrib[\"xml:id\"] = wienbib_source_xmlid\n",
    "    \n",
    "    #Title\n",
    "    tree.find(\"tei:teiHeader/tei:fileDesc/tei:sourceDesc/tei:bibl[@source='#wienbib']/tei:title\",ns).text = doc_data[\"data_wienbib\"][\"titleHeader\"]\n",
    "    \n",
    "    #Author\n",
    "    tree.find(\"tei:teiHeader/tei:fileDesc/tei:sourceDesc/tei:bibl[@source='#wienbib']/tei:author\",ns).text = \"Karl Kraus\"\n",
    "    tree.find(\"tei:teiHeader/tei:fileDesc/tei:sourceDesc/tei:bibl[@source='#wienbib']/tei:author\",ns).attrib[\"ref\"] = \"#P.Kraus\"\n",
    "    \n",
    "    #Wienbib-ID\n",
    "    #'wienbib_id': '1132421',\n",
    "    tree.find(\"tei:teiHeader/tei:fileDesc/tei:sourceDesc/tei:bibl[@source='#wienbib']/tei:idno[@type='ID']\",ns).text = doc_data[\"data_wienbib\"][\"wienbib_id\"]\n",
    "    \n",
    "    \n",
    "    #'wienbib_url': 'https://www.digital.wienbibliothek.at/wbrobv02/content/titleinfo/1132421'\n",
    "    tree.find(\"tei:teiHeader/tei:fileDesc/tei:sourceDesc/tei:bibl[@source='#wienbib']/tei:ref[@type='fulllink']\",ns).text = doc_data[\"data_wienbib\"][\"wienbib_url\"]\n",
    "    tree.find(\"tei:teiHeader/tei:fileDesc/tei:sourceDesc/tei:bibl[@source='#wienbib']/tei:ref[@type='fulllink']\",ns).attrib[\"target\"] = doc_data[\"data_wienbib\"][\"wienbib_url\"]\n",
    "    \n",
    "    #opac_url\n",
    "    #'opac_url': 'https://permalink.obvsg.at/wbr/AC15960874',\n",
    "    tree.find(\"tei:teiHeader/tei:fileDesc/tei:sourceDesc/tei:bibl[@source='#wienbib']/tei:ref[@type='opaclink']\",ns).text = doc_data[\"data_wienbib\"][\"opac_url\"]\n",
    "    tree.find(\"tei:teiHeader/tei:fileDesc/tei:sourceDesc/tei:bibl[@source='#wienbib']/tei:ref[@type='opaclink']\",ns).attrib[\"target\"] = doc_data[\"data_wienbib\"][\"opac_url\"]\n",
    "    \n",
    "    #pdf-url\n",
    "    tree.find(\"tei:teiHeader/tei:fileDesc/tei:sourceDesc/tei:bibl[@source='#wienbib']/tei:ref[@type='pdf']\",ns).text = doc_data[\"data_wienbib\"][\"pdfdownload_url\"].split(\"?\")[0]\n",
    "    tree.find(\"tei:teiHeader/tei:fileDesc/tei:sourceDesc/tei:bibl[@source='#wienbib']/tei:ref[@type='pdf']\",ns).attrib[\"target\"] = doc_data[\"data_wienbib\"][\"pdfdownload_url\"].split(\"?\")[0]\n",
    "    \n",
    "    \n",
    "    \n",
    "    # -------- \n",
    "    # Fackel \n",
    "    # --------\n",
    "    \n",
    "    fackel_source_xmlid = \"fackel_\" + shorthash(doc_data[\"fackel\"][\"krausonline_bibl\"])\n",
    "    tree.find(\"tei:teiHeader/tei:fileDesc/tei:sourceDesc/tei:bibl[@source='#fackel']\",ns).attrib[\"xml:id\"] = fackel_source_xmlid\n",
    "    \n",
    "    \n",
    "    #krausonline_bibl\n",
    "    tree.find(\"tei:teiHeader/tei:fileDesc/tei:sourceDesc/tei:bibl[@source='#fackel']/tei:note[@source='#krausonline']\",ns).attrib[\"source\"] = \"#\" + ko_source_xmlid\n",
    "    tree.find(\"tei:teiHeader/tei:fileDesc/tei:sourceDesc/tei:bibl[@source='#fackel']/tei:note\",ns).text = doc_data[\"fackel\"][\"krausonline_bibl\"]\n",
    "    \n",
    "    #'issue': '521-530'\n",
    "    tree.find(\"tei:teiHeader/tei:fileDesc/tei:sourceDesc/tei:bibl[@source='#fackel']/tei:biblScope[@unit='issue']\",ns).text = doc_data[\"fackel\"][\"issue\"]\n",
    "    #'pp': '98',\n",
    "    tree.find(\"tei:teiHeader/tei:fileDesc/tei:sourceDesc/tei:bibl[@source='#fackel']/tei:biblScope[@unit='page']\",ns).text = doc_data[\"fackel\"][\"pp\"]\n",
    "    \n",
    "    #'permalinks': ['https://fackel.oeaw.ac.at/f/521-530,098'],\n",
    "    fackel_bibl_elem = tree.find(\"tei:teiHeader/tei:fileDesc/tei:sourceDesc/tei:bibl[@source='#fackel']\", ns)\n",
    "    for permalink in doc_data[\"fackel\"][\"permalinks\"]:\n",
    "        fackel_ref_elem = SubElement(fackel_bibl_elem ,\"ref\")\n",
    "        fackel_ref_elem.text = permalink \n",
    "        fackel_ref_elem.attrib[\"target\"] = permalink\n",
    "    \n",
    "    \n",
    "    # --------\n",
    "    # msDesc\n",
    "    # --------\n",
    "    \n",
    "    #msDesc\n",
    "    msDesc_elem = tree.find(\"tei:teiHeader/tei:fileDesc/tei:sourceDesc/tei:msDesc\", ns)\n",
    "    #idnos have to be added manually, I am afraid..\n",
    "    \n",
    "    physDesc_elem = msDesc_elem.find(\"tei:physDesc\",ns)\n",
    "    ab_extent = SubElement(physDesc_elem, 'ab')\n",
    "    ab_extent.attrib[\"type\"] = \"extent\"\n",
    "    ab_extent.text = doc_data[\"data_wienbib\"][\"extent\"]\n",
    "    \n",
    "    ab_additional = SubElement(physDesc_elem, 'ab')\n",
    "    ab_additional.text = doc_data[\"data_wienbib\"][\"anmerkung\"]\n",
    "    \n",
    "    # --------\n",
    "    # Abstracts\n",
    "    # --------\n",
    "    \n",
    "    #ko-summary: 'summary_paragraphs'\n",
    "    ko_abstract_elem = tree.find(\"tei:teiHeader/tei:profileDesc/tei:abstract[1]\",ns)\n",
    "    ko_abstract_elem.attrib[\"source\"] = \"#\" + ko_source_xmlid\n",
    "    for ko_abstract_p in doc_data[\"data_krausonline\"][\"summary_paragraphs\"]:\n",
    "        ko_abstract_p_elem = SubElement(ko_abstract_elem, \"p\")\n",
    "        ko_abstract_p_elem.text = ko_abstract_p\n",
    "    \n",
    "    wienbib_abstract_elem = ET.Element(\"abstract\")\n",
    "    wienbib_abstract_elem.attrib[\"source\"] = \"#\" + wienbib_source_xmlid\n",
    "    \n",
    "    wienbib_abstract_p_elem = SubElement(wienbib_abstract_elem, \"p\")\n",
    "    wienbib_abstract_p_elem.text = doc_data[\"data_wienbib\"][\"zusammenfassung\"]\n",
    "    \n",
    "        \n",
    "    tree.find(\"tei:teiHeader/tei:profileDesc\",ns).insert(1,wienbib_abstract_elem)\n",
    "    \n",
    "    # --------\n",
    "    # Data on the event\n",
    "    # --------\n",
    "    tree.find(\"tei:teiHeader/tei:profileDesc/tei:settingDesc/tei:setting/tei:date\",ns).text = doc_date_obj.strftime(\"%d.%m.%Y\")\n",
    "    tree.find(\"tei:teiHeader/tei:profileDesc/tei:settingDesc/tei:setting/tei:date\",ns).attrib[\"when-iso\"] = iso_date_string\n",
    "    \n",
    "    \n",
    "    # --------\n",
    "    # Transcription (kraus online)\n",
    "    # --------\n",
    "    krausonline_text_elem = tree.find(\"tei:text[@source='krausonline']\",ns)\n",
    "    krausonline_text_elem.attrib[\"source\"] = \"#\" + ko_source_xmlid\n",
    "    krausonline_text_body_elem = krausonline_text_elem.find(\"tei:body\",ns)\n",
    "    for transcript_p_text in doc_data[\"data_krausonline\"][\"vorlesungsprogramm-transkript\"]:\n",
    "        krausonline_text_body_p_elem = SubElement(krausonline_text_body_elem, \"p\")\n",
    "        krausonline_text_body_p_elem.text = transcript_p_text\n",
    "    \n",
    "    \n",
    "    #write\n",
    "    tree.write(outfile, encoding='utf-8', xml_declaration = True )\n",
    "    print(\"Exported \" + outfile)\n",
    "    "
   ]
  },
  {
   "cell_type": "code",
   "execution_count": 10,
   "metadata": {},
   "outputs": [],
   "source": [
    "#test\n",
    "#generate_TEI(\"kkvo_1920-01-11\")"
   ]
  },
  {
   "cell_type": "code",
   "execution_count": 11,
   "metadata": {},
   "outputs": [
    {
     "name": "stdout",
     "output_type": "stream",
     "text": [
      "Exported tei/kkvo_1920-01-11.xml\n",
      "Exported tei/kkvo_1920-01-22.xml\n",
      "Exported tei/kkvo_1920-01-27.xml\n",
      "Exported tei/kkvo_1920-01-29.xml\n",
      "Exported tei/kkvo_1920-02-04.xml\n",
      "Exported tei/kkvo_1920-02-15.xml\n",
      "Exported tei/kkvo_1920-03-07.xml\n",
      "Exported tei/kkvo_1920-03-14.xml\n",
      "Exported tei/kkvo_1920-03-28.xml\n",
      "Exported tei/kkvo_1920-04-06.xml\n",
      "Exported tei/kkvo_1920-04-11.xml\n",
      "Exported tei/kkvo_1920-04-18.xml\n",
      "Exported tei/kkvo_1920-05-01.xml\n",
      "Exported tei/kkvo_1920-05-09.xml\n",
      "Exported tei/kkvo_1920-05-28.xml\n",
      "Exported tei/kkvo_1920-05-29.xml\n",
      "Exported tei/kkvo_1920-05-31.xml\n",
      "Exported tei/kkvo_1920-06-02.xml\n",
      "Exported tei/kkvo_1920-06-04.xml\n",
      "Exported tei/kkvo_1920-06-11.xml\n",
      "Exported tei/kkvo_1920-06-12.xml\n",
      "Exported tei/kkvo_1920-06-14.xml\n",
      "Exported tei/kkvo_1920-10-03.xml\n",
      "Exported tei/kkvo_1920-10-09.xml\n",
      "Exported tei/kkvo_1920-10-21.xml\n",
      "Exported tei/kkvo_1920-11-01.xml\n",
      "Exported tei/kkvo_1920-11-15.xml\n",
      "Exported tei/kkvo_1920-11-28.xml\n",
      "Exported tei/kkvo_1920-12-02.xml\n",
      "Exported tei/kkvo_1920-12-08.xml\n",
      "Exported tei/kkvo_1920-12-14.xml\n",
      "Exported tei/kkvo_1920-12-19.xml\n",
      "Exported tei/kkvo_1920-01-01.xml\n"
     ]
    }
   ],
   "source": [
    "#loop over IDs\n",
    "errors = []\n",
    "for file_id in data.keys():\n",
    "    try:\n",
    "        generate_TEI(file_id)\n",
    "    except:\n",
    "        errors.append(file_id)\n",
    "    "
   ]
  }
 ],
 "metadata": {
  "kernelspec": {
   "display_name": "Python 3",
   "language": "python",
   "name": "python3"
  },
  "language_info": {
   "codemirror_mode": {
    "name": "ipython",
    "version": 3
   },
   "file_extension": ".py",
   "mimetype": "text/x-python",
   "name": "python",
   "nbconvert_exporter": "python",
   "pygments_lexer": "ipython3",
   "version": "3.6.11"
  }
 },
 "nbformat": 4,
 "nbformat_minor": 2
}
